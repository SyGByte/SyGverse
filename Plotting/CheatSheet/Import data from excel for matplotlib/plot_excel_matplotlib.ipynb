{
 "cells": [
  {
   "cell_type": "code",
   "execution_count": null,
   "id": "1272a64d",
   "metadata": {},
   "outputs": [],
   "source": [
    "# importing numpy as np.array takes less space than list\n",
    "import numpy as np\n",
    "# pandas will be used in import the excel file\n",
    "import pandas as pd\n",
    "# matplotlib.pyplot as versatile library used for plotting\n",
    "import matplotlib.pyplot as plt"
   ]
  },
  {
   "cell_type": "code",
   "execution_count": null,
   "id": "f1dddf8a",
   "metadata": {},
   "outputs": [],
   "source": [
    "# importing the excel file\n",
    "\n",
    "df = pd.read_excel(\"Plotting/CheatSheet/Import data from excel for matplotlib/plot_excel.xlsx\")"
   ]
  },
  {
   "cell_type": "code",
   "execution_count": null,
   "id": "a0b32802",
   "metadata": {},
   "outputs": [],
   "source": [
    "# convert the datasets into numpy array\n",
    "\n",
    "Number=np.array(df.Number)\n",
    "Square=np.array(df.Square)\n",
    "Cube=np.array(df.Cube)"
   ]
  },
  {
   "cell_type": "code",
   "execution_count": null,
   "id": "e7484ea4",
   "metadata": {},
   "outputs": [],
   "source": [
    "# Let's plot\n",
    "plt.plot(Number, Square,'bo-', markersize=2, label=\"Square\")\n",
    "plt.plot(Number, Cube,'ro-', markersize=2, label=\"Cube\")\n",
    "plt.xlabel(\"Number\")\n",
    "plt.ylabel(\"F\")\n",
    "plt.legend()\n",
    "plt.title(\"Function\")\n",
    "\n",
    "#plt.savefig(\"bare_CS.png\",dpi=100)\n",
    "plt.show()"
   ]
  }
 ],
 "metadata": {
  "kernelspec": {
   "display_name": "Python 3",
   "language": "python",
   "name": "python3"
  },
  "language_info": {
   "codemirror_mode": {
    "name": "ipython",
    "version": 3
   },
   "file_extension": ".py",
   "mimetype": "text/x-python",
   "name": "python",
   "nbconvert_exporter": "python",
   "pygments_lexer": "ipython3",
   "version": "3.8.8"
  }
 },
 "nbformat": 4,
 "nbformat_minor": 5
}
